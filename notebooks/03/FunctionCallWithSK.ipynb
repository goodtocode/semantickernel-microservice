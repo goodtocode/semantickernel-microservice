{
 "cells": [
  {
   "cell_type": "code",
   "execution_count": 1,
   "metadata": {
    "dotnet_interactive": {
     "language": "csharp"
    },
    "polyglot_notebook": {
     "kernelName": "csharp"
    },
    "vscode": {
     "languageId": "polyglot-notebook"
    }
   },
   "outputs": [
    {
     "data": {
      "text/html": [
       "<div><div></div><div></div><div><strong>Installed Packages</strong><ul><li><span>Microsoft.SemanticKernel, 1.1.0</span></li></ul></div></div>"
      ]
     },
     "metadata": {},
     "output_type": "display_data"
    }
   ],
   "source": [
    "#r \"nuget: Microsoft.SemanticKernel, *-*\""
   ]
  },
  {
   "cell_type": "code",
   "execution_count": 2,
   "metadata": {
    "dotnet_interactive": {
     "language": "csharp"
    },
    "polyglot_notebook": {
     "kernelName": "csharp"
    },
    "vscode": {
     "languageId": "polyglot-notebook"
    }
   },
   "outputs": [],
   "source": [
    "using Microsoft.SemanticKernel;\n",
    "using Microsoft.SemanticKernel.Memory;\n",
    "using Microsoft.SemanticKernel.Connectors.OpenAI;"
   ]
  },
  {
   "cell_type": "code",
   "execution_count": 3,
   "metadata": {
    "dotnet_interactive": {
     "language": "csharp"
    },
    "polyglot_notebook": {
     "kernelName": "csharp"
    },
    "vscode": {
     "languageId": "polyglot-notebook"
    }
   },
   "outputs": [],
   "source": [
    "#!import ../Utils/Settings.cs"
   ]
  },
  {
   "cell_type": "code",
   "execution_count": 4,
   "metadata": {
    "dotnet_interactive": {
     "language": "csharp"
    },
    "polyglot_notebook": {
     "kernelName": "csharp"
    },
    "vscode": {
     "languageId": "polyglot-notebook"
    }
   },
   "outputs": [],
   "source": [
    "using System;\n",
    "using System.Collections.Generic;\n",
    "using System.Diagnostics;\n",
    "using System.IO;\n",
    "using System.Net.Http;\n",
    "using System.Text.Json;\n",
    "using System.Threading.Tasks;"
   ]
  },
  {
   "cell_type": "code",
   "execution_count": 5,
   "metadata": {
    "dotnet_interactive": {
     "language": "csharp"
    },
    "polyglot_notebook": {
     "kernelName": "csharp"
    },
    "vscode": {
     "languageId": "polyglot-notebook"
    }
   },
   "outputs": [],
   "source": [
    "Kernel kernel = Kernel.CreateBuilder()\n",
    "            .AddAzureOpenAIChatCompletion(\"Your Azure OpenAI Service gpt-35-turbo Deployment Name\" , Settings.AOAIEndpoint, Settings.AOAIKey)\n",
    "            .Build();"
   ]
  },
  {
   "cell_type": "code",
   "execution_count": 6,
   "metadata": {
    "dotnet_interactive": {
     "language": "csharp"
    },
    "polyglot_notebook": {
     "kernelName": "csharp"
    },
    "vscode": {
     "languageId": "polyglot-notebook"
    }
   },
   "outputs": [],
   "source": [
    "kernel.Plugins.Add(KernelPluginFactory.CreateFromFunctions(\"FunctionCalling\", new[]\n",
    "{\n",
    "    kernel.CreateFunctionFromMethod((string name) => \"Hi \"+ name, \"GetName\", \"Gets name\"),\n",
    "}));"
   ]
  },
  {
   "cell_type": "code",
   "execution_count": 7,
   "metadata": {
    "dotnet_interactive": {
     "language": "csharp"
    },
    "polyglot_notebook": {
     "kernelName": "csharp"
    },
    "vscode": {
     "languageId": "polyglot-notebook"
    }
   },
   "outputs": [],
   "source": [
    "OpenAIPromptExecutionSettings settings = new() { ToolCallBehavior = ToolCallBehavior.AutoInvokeKernelFunctions };"
   ]
  },
  {
   "cell_type": "code",
   "execution_count": 8,
   "metadata": {
    "dotnet_interactive": {
     "language": "csharp"
    },
    "polyglot_notebook": {
     "kernelName": "csharp"
    },
    "vscode": {
     "languageId": "polyglot-notebook"
    }
   },
   "outputs": [],
   "source": [
    "var result = await kernel.InvokePromptAsync(\"Kinfey is Microsoft MVP\", new(settings));"
   ]
  },
  {
   "cell_type": "code",
   "execution_count": 9,
   "metadata": {
    "dotnet_interactive": {
     "language": "csharp"
    },
    "polyglot_notebook": {
     "kernelName": "csharp"
    },
    "vscode": {
     "languageId": "polyglot-notebook"
    }
   },
   "outputs": [
    {
     "data": {
      "text/html": [
       "<details open=\"open\" class=\"dni-treeview\"><summary><span class=\"dni-code-hint\"><code>{\\n  &quot;name&quot;: &quot;functions.FunctionCalling_GetName&quot;\\n}\\n{\\n  &quot;name&quot;: &quot;Kinfey&quot;\\n}</code></span></summary><div><table><thead><tr></tr></thead><tbody><tr><td>Function</td><td><details class=\"dni-treeview\"><summary><span class=\"dni-code-hint\"><code>{&quot;Name&quot;:&quot;func11013029673744b790884768e0f2a687&quot;,&quot;Description&quot;:&quot;Generic function, unknown purpose&quot;,&quot;Metadata&quot;:{&quot;Name&quot;:&quot;func11013029673744b790884768e0f2a687&quot;,&quot;PluginName&quot;:null,&quot;Description&quot;:&quot;Generic function, unknown purpose&quot;,&quot;Parameters&quot;:[],&quot;ReturnParameter&quot;:{&quot;Description&quot;:&quot;&quot;,&quot;ParameterType&quot;:null,&quot;Sch...</code></span></summary><div><table><thead><tr></tr></thead><tbody><tr><td>Name</td><td><div class=\"dni-plaintext\"><pre>func11013029673744b790884768e0f2a687</pre></div></td></tr><tr><td>Description</td><td><div class=\"dni-plaintext\"><pre>Generic function, unknown purpose</pre></div></td></tr><tr><td>Metadata</td><td><details class=\"dni-treeview\"><summary><span class=\"dni-code-hint\"><code>Microsoft.SemanticKernel.KernelFunctionMetadata</code></span></summary><div><table><thead><tr></tr></thead><tbody><tr><td>Name</td><td><div class=\"dni-plaintext\"><pre>func11013029673744b790884768e0f2a687</pre></div></td></tr><tr><td>PluginName</td><td><div class=\"dni-plaintext\"><pre>&lt;null&gt;</pre></div></td></tr><tr><td>Description</td><td><div class=\"dni-plaintext\"><pre>Generic function, unknown purpose</pre></div></td></tr><tr><td>Parameters</td><td><i>(empty)</i></td></tr><tr><td>ReturnParameter</td><td><details class=\"dni-treeview\"><summary><span class=\"dni-code-hint\"><code>Microsoft.SemanticKernel.KernelReturnParameterMetadata</code></span></summary><div><table><thead><tr></tr></thead><tbody><tr><td>Description</td><td><div class=\"dni-plaintext\"><pre></pre></div></td></tr><tr><td>ParameterType</td><td><div class=\"dni-plaintext\"><pre>&lt;null&gt;</pre></div></td></tr><tr><td>Schema</td><td><div class=\"dni-plaintext\"><pre>&lt;null&gt;</pre></div></td></tr></tbody></table></div></details></td></tr></tbody></table></div></details></td></tr></tbody></table></div></details></td></tr><tr><td>Metadata</td><td><table><thead><tr><th><i>key</i></th><th><i>type</i></th><th>value</th></tr></thead><tbody><tr><td><div class=\"dni-plaintext\"><pre>Id</pre></div></td><td><span><a href=\"https://docs.microsoft.com/dotnet/api/system.string?view=net-7.0\">System.String</a></span></td><td><div class=\"dni-plaintext\"><pre>chatcmpl-8htygGqs6jbTOfkobYfevaRqMruWr</pre></div></td></tr><tr><td><div class=\"dni-plaintext\"><pre>Created</pre></div></td><td><span><a href=\"https://docs.microsoft.com/dotnet/api/system.datetimeoffset?view=net-7.0\">System.DateTimeOffset</a></span></td><td><span>2024-01-17 06:46:14Z</span></td></tr><tr><td><div class=\"dni-plaintext\"><pre>PromptFilterResults</pre></div></td><td><span><a href=\"https://docs.microsoft.com/dotnet/api/system.collections.generic.list-1?view=net-7.0\">System.Collections.Generic.List&lt;Azure.AI.OpenAI.ContentFilterResultsForPrompt&gt;</a></span></td><td><table><thead><tr><th><i>index</i></th><th>value</th></tr></thead><tbody><tr><td>0</td><td><details class=\"dni-treeview\"><summary><span class=\"dni-code-hint\"><code>Azure.AI.OpenAI.ContentFilterResultsForPrompt</code></span></summary><div><table><thead><tr></tr></thead><tbody><tr><td>PromptIndex</td><td><div class=\"dni-plaintext\"><pre>0</pre></div></td></tr><tr><td>ContentFilterResults</td><td><details class=\"dni-treeview\"><summary><span class=\"dni-code-hint\"><code>Azure.AI.OpenAI.ContentFilterResultDetailsForPrompt</code></span></summary><div><table><thead><tr></tr></thead><tbody><tr><td>Sexual</td><td><details class=\"dni-treeview\"><summary><span class=\"dni-code-hint\"><code>Azure.AI.OpenAI.ContentFilterResult</code></span></summary><div><table><thead><tr></tr></thead><tbody><tr><td>Severity</td><td>safe</td></tr><tr><td>Filtered</td><td>False</td></tr></tbody></table></div></details></td></tr><tr><td>Violence</td><td><details class=\"dni-treeview\"><summary><span class=\"dni-code-hint\"><code>Azure.AI.OpenAI.ContentFilterResult</code></span></summary><div><table><thead><tr></tr></thead><tbody><tr><td>Severity</td><td>safe</td></tr><tr><td>Filtered</td><td>False</td></tr></tbody></table></div></details></td></tr><tr><td>Hate</td><td><details class=\"dni-treeview\"><summary><span class=\"dni-code-hint\"><code>Azure.AI.OpenAI.ContentFilterResult</code></span></summary><div><table><thead><tr></tr></thead><tbody><tr><td>Severity</td><td>safe</td></tr><tr><td>Filtered</td><td>False</td></tr></tbody></table></div></details></td></tr><tr><td>SelfHarm</td><td><details class=\"dni-treeview\"><summary><span class=\"dni-code-hint\"><code>Azure.AI.OpenAI.ContentFilterResult</code></span></summary><div><table><thead><tr></tr></thead><tbody><tr><td>Severity</td><td>safe</td></tr><tr><td>Filtered</td><td>False</td></tr></tbody></table></div></details></td></tr><tr><td>Profanity</td><td><div class=\"dni-plaintext\"><pre>&lt;null&gt;</pre></div></td></tr><tr><td>CustomBlocklists</td><td><details class=\"dni-treeview\"><summary><span class=\"dni-code-hint\"><code>[  ]</code></span></summary><div><table><thead><tr></tr></thead><tbody><tr><td>IsUndefined</td><td>True</td></tr><tr><td>Count</td><td>0</td></tr><tr><td>IsReadOnly</td><td>False</td></tr><tr><td><i>(values)</i></td><td><i>(empty)</i></td></tr></tbody></table></div></details></td></tr><tr><td>Error</td><td><div class=\"dni-plaintext\"><pre>&lt;null&gt;</pre></div></td></tr><tr><td>Jailbreak</td><td><div class=\"dni-plaintext\"><pre>&lt;null&gt;</pre></div></td></tr></tbody></table></div></details></td></tr></tbody></table></div></details></td></tr></tbody></table></td></tr><tr><td><div class=\"dni-plaintext\"><pre>SystemFingerprint</pre></div></td><td><div class=\"dni-plaintext\"><pre>&lt;null&gt;</pre></div></td><td><div class=\"dni-plaintext\"><pre>&lt;null&gt;</pre></div></td></tr><tr><td><div class=\"dni-plaintext\"><pre>Usage</pre></div></td><td>Azure.AI.OpenAI.CompletionsUsage</td><td><details class=\"dni-treeview\"><summary><span class=\"dni-code-hint\"><code>Azure.AI.OpenAI.CompletionsUsage</code></span></summary><div><table><thead><tr></tr></thead><tbody><tr><td>CompletionTokens</td><td><div class=\"dni-plaintext\"><pre>26</pre></div></td></tr><tr><td>PromptTokens</td><td><div class=\"dni-plaintext\"><pre>47</pre></div></td></tr><tr><td>TotalTokens</td><td><div class=\"dni-plaintext\"><pre>73</pre></div></td></tr></tbody></table></div></details></td></tr></tbody></table></td></tr><tr><td>ValueType</td><td><span><a href=\"https://docs.microsoft.com/dotnet/api/microsoft.semantickernel.connectors.openai.openaichatmessagecontent?view=net-7.0\">Microsoft.SemanticKernel.Connectors.OpenAI.OpenAIChatMessageContent</a></span></td></tr></tbody></table></div></details><style>\r\n",
       ".dni-code-hint {\r\n",
       "    font-style: italic;\r\n",
       "    overflow: hidden;\r\n",
       "    white-space: nowrap;\r\n",
       "}\r\n",
       ".dni-treeview {\r\n",
       "    white-space: nowrap;\r\n",
       "}\r\n",
       ".dni-treeview td {\r\n",
       "    vertical-align: top;\r\n",
       "    text-align: start;\r\n",
       "}\r\n",
       "details.dni-treeview {\r\n",
       "    padding-left: 1em;\r\n",
       "}\r\n",
       "table td {\r\n",
       "    text-align: start;\r\n",
       "}\r\n",
       "table tr { \r\n",
       "    vertical-align: top; \r\n",
       "    margin: 0em 0px;\r\n",
       "}\r\n",
       "table tr td pre \r\n",
       "{ \r\n",
       "    vertical-align: top !important; \r\n",
       "    margin: 0em 0px !important;\r\n",
       "} \r\n",
       "table th {\r\n",
       "    text-align: start;\r\n",
       "}\r\n",
       "</style>"
      ]
     },
     "metadata": {},
     "output_type": "display_data"
    }
   ],
   "source": [
    "result"
   ]
  },
  {
   "cell_type": "code",
   "execution_count": 10,
   "metadata": {
    "dotnet_interactive": {
     "language": "csharp"
    },
    "polyglot_notebook": {
     "kernelName": "csharp"
    },
    "vscode": {
     "languageId": "polyglot-notebook"
    }
   },
   "outputs": [
    {
     "data": {
      "text/plain": [
       "{\n",
       "  \"name\": \"functions.FunctionCalling_GetName\"\n",
       "}\n",
       "{\n",
       "  \"name\": \"Kinfey\"\n",
       "}"
      ]
     },
     "metadata": {},
     "output_type": "display_data"
    }
   ],
   "source": [
    "result.GetValue<string>()"
   ]
  }
 ],
 "metadata": {
  "language_info": {
   "name": "python"
  }
 },
 "nbformat": 4,
 "nbformat_minor": 2
}
